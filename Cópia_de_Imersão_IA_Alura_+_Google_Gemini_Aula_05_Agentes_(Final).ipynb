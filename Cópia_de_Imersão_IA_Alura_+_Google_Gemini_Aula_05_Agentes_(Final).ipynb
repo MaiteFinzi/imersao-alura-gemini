{
  "nbformat": 4,
  "nbformat_minor": 0,
  "metadata": {
    "colab": {
      "provenance": [],
      "include_colab_link": true
    },
    "kernelspec": {
      "name": "python3",
      "display_name": "Python 3"
    },
    "language_info": {
      "name": "python"
    }
  },
  "cells": [
    {
      "cell_type": "markdown",
      "metadata": {
        "id": "view-in-github",
        "colab_type": "text"
      },
      "source": [
        "<a href=\"https://colab.research.google.com/github/MaiteFinzi/imersao-alura-gemini/blob/master/C%C3%B3pia_de_Imers%C3%A3o_IA_Alura_%2B_Google_Gemini_Aula_05_Agentes_(Final).ipynb\" target=\"_parent\"><img src=\"https://colab.research.google.com/assets/colab-badge.svg\" alt=\"Open In Colab\"/></a>"
      ]
    },
    {
      "cell_type": "code",
      "source": [
        "%pip -q install google-genai"
      ],
      "metadata": {
        "id": "UCCbECexLk_h"
      },
      "execution_count": 1,
      "outputs": []
    },
    {
      "cell_type": "code",
      "source": [
        "# Configura a API Key do Google Gemini\n",
        "\n",
        "import os\n",
        "from google.colab import userdata\n",
        "\n",
        "os.environ[\"GOOGLE_API_KEY\"] = userdata.get('GOOGLE_API_KEY')"
      ],
      "metadata": {
        "id": "NfCqHo1tLk8P"
      },
      "execution_count": 3,
      "outputs": []
    },
    {
      "cell_type": "code",
      "source": [
        "# Configura o cliente da SDK do Gemini\n",
        "\n",
        "from google import genai\n",
        "\n",
        "client = genai.Client()\n",
        "\n",
        "MODEL_ID = \"gemini-2.0-flash\""
      ],
      "metadata": {
        "id": "bV4w0H5TLk5g"
      },
      "execution_count": 4,
      "outputs": []
    },
    {
      "cell_type": "code",
      "source": [
        "# Instalar Framework de agentes do Google ################################################\n",
        "!pip install -q google-adk"
      ],
      "metadata": {
        "colab": {
          "base_uri": "https://localhost:8080/"
        },
        "id": "a1eRPalxEnj7",
        "outputId": "a265e1ab-1df7-4d5f-ffac-34277bc53332"
      },
      "execution_count": 10,
      "outputs": [
        {
          "output_type": "stream",
          "name": "stdout",
          "text": [
            "\u001b[?25l   \u001b[90m━━━━━━━━━━━━━━━━━━━━━━━━━━━━━━━━━━━━━━━━\u001b[0m \u001b[32m0.0/1.2 MB\u001b[0m \u001b[31m?\u001b[0m eta \u001b[36m-:--:--\u001b[0m\r\u001b[2K   \u001b[91m━━━━━━━━━\u001b[0m\u001b[91m╸\u001b[0m\u001b[90m━━━━━━━━━━━━━━━━━━━━━━━━━━━━━━\u001b[0m \u001b[32m0.3/1.2 MB\u001b[0m \u001b[31m8.4 MB/s\u001b[0m eta \u001b[36m0:00:01\u001b[0m\r\u001b[2K   \u001b[91m━━━━━━━━━━━━━━━━━━━━━━━━━━━━━━━━━━━━━━━\u001b[0m\u001b[91m╸\u001b[0m \u001b[32m1.2/1.2 MB\u001b[0m \u001b[31m17.7 MB/s\u001b[0m eta \u001b[36m0:00:01\u001b[0m\r\u001b[2K   \u001b[90m━━━━━━━━━━━━━━━━━━━━━━━━━━━━━━━━━━━━━━━━\u001b[0m \u001b[32m1.2/1.2 MB\u001b[0m \u001b[31m15.0 MB/s\u001b[0m eta \u001b[36m0:00:00\u001b[0m\n",
            "\u001b[?25h\u001b[?25l   \u001b[90m━━━━━━━━━━━━━━━━━━━━━━━━━━━━━━━━━━━━━━━━\u001b[0m \u001b[32m0.0/232.1 kB\u001b[0m \u001b[31m?\u001b[0m eta \u001b[36m-:--:--\u001b[0m\r\u001b[2K   \u001b[90m━━━━━━━━━━━━━━━━━━━━━━━━━━━━━━━━━━━━━━━━\u001b[0m \u001b[32m232.1/232.1 kB\u001b[0m \u001b[31m21.5 MB/s\u001b[0m eta \u001b[36m0:00:00\u001b[0m\n",
            "\u001b[2K   \u001b[90m━━━━━━━━━━━━━━━━━━━━━━━━━━━━━━━━━━━━━━━━\u001b[0m \u001b[32m95.2/95.2 kB\u001b[0m \u001b[31m9.8 MB/s\u001b[0m eta \u001b[36m0:00:00\u001b[0m\n",
            "\u001b[2K   \u001b[90m━━━━━━━━━━━━━━━━━━━━━━━━━━━━━━━━━━━━━━━━\u001b[0m \u001b[32m217.1/217.1 kB\u001b[0m \u001b[31m21.6 MB/s\u001b[0m eta \u001b[36m0:00:00\u001b[0m\n",
            "\u001b[2K   \u001b[90m━━━━━━━━━━━━━━━━━━━━━━━━━━━━━━━━━━━━━━━━\u001b[0m \u001b[32m334.1/334.1 kB\u001b[0m \u001b[31m30.6 MB/s\u001b[0m eta \u001b[36m0:00:00\u001b[0m\n",
            "\u001b[2K   \u001b[90m━━━━━━━━━━━━━━━━━━━━━━━━━━━━━━━━━━━━━━━━\u001b[0m \u001b[32m125.1/125.1 kB\u001b[0m \u001b[31m14.1 MB/s\u001b[0m eta \u001b[36m0:00:00\u001b[0m\n",
            "\u001b[2K   \u001b[90m━━━━━━━━━━━━━━━━━━━━━━━━━━━━━━━━━━━━━━━━\u001b[0m \u001b[32m65.8/65.8 kB\u001b[0m \u001b[31m6.5 MB/s\u001b[0m eta \u001b[36m0:00:00\u001b[0m\n",
            "\u001b[2K   \u001b[90m━━━━━━━━━━━━━━━━━━━━━━━━━━━━━━━━━━━━━━━━\u001b[0m \u001b[32m119.0/119.0 kB\u001b[0m \u001b[31m12.3 MB/s\u001b[0m eta \u001b[36m0:00:00\u001b[0m\n",
            "\u001b[2K   \u001b[90m━━━━━━━━━━━━━━━━━━━━━━━━━━━━━━━━━━━━━━━━\u001b[0m \u001b[32m194.9/194.9 kB\u001b[0m \u001b[31m20.9 MB/s\u001b[0m eta \u001b[36m0:00:00\u001b[0m\n",
            "\u001b[2K   \u001b[90m━━━━━━━━━━━━━━━━━━━━━━━━━━━━━━━━━━━━━━━━\u001b[0m \u001b[32m62.5/62.5 kB\u001b[0m \u001b[31m6.6 MB/s\u001b[0m eta \u001b[36m0:00:00\u001b[0m\n",
            "\u001b[2K   \u001b[90m━━━━━━━━━━━━━━━━━━━━━━━━━━━━━━━━━━━━━━━━\u001b[0m \u001b[32m103.3/103.3 kB\u001b[0m \u001b[31m10.5 MB/s\u001b[0m eta \u001b[36m0:00:00\u001b[0m\n",
            "\u001b[2K   \u001b[90m━━━━━━━━━━━━━━━━━━━━━━━━━━━━━━━━━━━━━━━━\u001b[0m \u001b[32m44.4/44.4 kB\u001b[0m \u001b[31m4.2 MB/s\u001b[0m eta \u001b[36m0:00:00\u001b[0m\n",
            "\u001b[2K   \u001b[90m━━━━━━━━━━━━━━━━━━━━━━━━━━━━━━━━━━━━━━━━\u001b[0m \u001b[32m72.0/72.0 kB\u001b[0m \u001b[31m7.4 MB/s\u001b[0m eta \u001b[36m0:00:00\u001b[0m\n",
            "\u001b[?25h"
          ]
        }
      ]
    },
    {
      "cell_type": "code",
      "execution_count": 11,
      "metadata": {
        "id": "aePV2bdfDeoW"
      },
      "outputs": [],
      "source": [
        "from google.adk.agents import Agent\n",
        "from google.adk.runners import Runner\n",
        "from google.adk.sessions import InMemorySessionService\n",
        "from google.adk.tools import google_search\n",
        "from google.genai import types  # Para criar conteúdos (Content e Part)\n",
        "from datetime import date\n",
        "import textwrap # Para formatar melhor a saída de texto\n",
        "from IPython.display import display, Markdown # Para exibir texto formatado no Colab\n",
        "import requests # Para fazer requisições HTTP\n",
        "import warnings\n",
        "\n",
        "warnings.filterwarnings(\"ignore\")"
      ]
    },
    {
      "cell_type": "code",
      "source": [
        "# Função auxiliar que envia uma mensagem para um agente via Runner e retorna a resposta final\n",
        "def call_agent(agent: Agent, message_text: str) -> str:\n",
        "    # Cria um serviço de sessão em memória\n",
        "    session_service = InMemorySessionService()\n",
        "    # Cria uma nova sessão (você pode personalizar os IDs conforme necessário)\n",
        "    session = session_service.create_session(app_name=agent.name, user_id=\"user1\", session_id=\"session1\")\n",
        "    # Cria um Runner para o agente\n",
        "    runner = Runner(agent=agent, app_name=agent.name, session_service=session_service)\n",
        "    # Cria o conteúdo da mensagem de entrada\n",
        "    content = types.Content(role=\"user\", parts=[types.Part(text=message_text)])\n",
        "\n",
        "    final_response = \"\"\n",
        "    # Itera assincronamente pelos eventos retornados durante a execução do agente\n",
        "    for event in runner.run(user_id=\"user1\", session_id=\"session1\", new_message=content):\n",
        "        if event.is_final_response():\n",
        "          for part in event.content.parts:\n",
        "            if part.text is not None:\n",
        "              final_response += part.text\n",
        "              final_response += \"\\n\"\n",
        "    return final_response"
      ],
      "metadata": {
        "id": "_xP4lWhsS5ko"
      },
      "execution_count": 12,
      "outputs": []
    },
    {
      "cell_type": "code",
      "source": [
        "# Função auxiliar para exibir texto formatado em Markdown no Colab\n",
        "def to_markdown(text):\n",
        "  text = text.replace('•', '  *')\n",
        "  return Markdown(textwrap.indent(text, '> ', predicate=lambda _: True))"
      ],
      "metadata": {
        "id": "8dosiodaxfFR"
      },
      "execution_count": 13,
      "outputs": []
    },
    {
      "cell_type": "code",
      "source": [
        "##########################################\n",
        "# --- Agente 1: Buscador de Notícias --- #\n",
        "##########################################\n",
        "def agente_buscador(tema, idade):\n",
        "\n",
        "    buscador = Agent(\n",
        "        name=\"agente_buscador\",\n",
        "        model=\"gemini-2.0-flash\",\n",
        "        instruction=\"\"\"\n",
        "        Você é um assistente de pesquisa que ajudará mamães, papais, avós e avôs, tios e tias, ou qualquer outro responsável, maior de idade,\n",
        "        a responder as perguntas de crianças na faixa etaria de 03 a 12 anos.\n",
        "        Você atua como psicólogo pediatra etem didática para conversar e ensinar crianças de 03 a 12 anos de idade.\n",
        "        A sua tarefa é usar a ferramenta de busca do google (google_search)\n",
        "        para buscar respostas curtas e que esclareçam as duvidas dessas crianças.\n",
        "        Você deve levar em consideração que sua resposta deverá ser diferente para os diferentes tipos de idades.\n",
        "        Sua resposta deve conter palavras fáceis de entender para cada idade.\n",
        "        Foque em no máximo 3 tipos de resposta para que os responsáveis possam escolher qual seria melhor para responderem a seus filhos.\n",
        "        Se um tema for sobre sexualidade não utilize palavras de nível técnico, tente contar uma breve história.\n",
        "        Responda em português. e se tiver alguma pergunta em outro idioma, traduza para o português e dê exemplos.\n",
        "        Se baseie nas informações mais recentes para que sua resposta seja mais atual.\n",
        "\n",
        "        \"\"\",\n",
        "        description=\"Agente que busca respostas no Google, para ajudar os pais e responsáveis de crianças de 3 a 12 anos de idade.\",\n",
        "        tools=[google_search]\n",
        "    )\n",
        "\n",
        "    entrada_do_agente_buscador = f\"Tema: {tema}\\nIdade: {idade}\"\n",
        "\n",
        "    respostas = call_agent(buscador, entrada_do_agente_buscador)\n",
        "    return respostas\n"
      ],
      "metadata": {
        "id": "o8bqIfi_DyH8"
      },
      "execution_count": 58,
      "outputs": []
    },
    {
      "cell_type": "code",
      "source": [
        "################################################\n",
        "# --- Agente 2: Planejador de respostas --- #\n",
        "################################################\n",
        "def agente_planejador(tema, respostas_buscadas):\n",
        "    planejador = Agent(\n",
        "        name=\"agente_planejador\",\n",
        "        model=\"gemini-2.0-flash\",\n",
        "        # Inserir as instruções do Agente Planejador #################################################\n",
        "        instruction=\"\"\"\n",
        "        Você é um planejador de respostas, especialista em responder as perguntas curiosas de crianças de 03 a 12 anos de idade.\n",
        "        Com base na lista de respostas mais adequadas a cada idade e mais recentes você deve:\n",
        "        usar a ferramenta de busca do Google (google_search) para criar um plano sobre\n",
        "        quais são os pontos mais relevantes que poderíamos abordar com base nas idades para\n",
        "        cada uma das crianças.\n",
        "        Ao final, você irá escolher a resposta mais relevante entre eles com base nas suas pesquisas\n",
        "        e retornar essa resposta.\n",
        "        \"\"\",\n",
        "        description=\"Agente que planeja e responde para ajudar os pais e responsáveis de crianças de 3 a 12 anos de idade.\",\n",
        "        tools=[google_search]\n",
        "    )\n",
        "\n",
        "    entrada_do_agente_planejador = f\"Tema:{tema}\\nRespostas buscadas: {respostas_buscadas}\"\n",
        "    # Executa o agente\n",
        "    plano_da_resposta = call_agent(planejador, entrada_do_agente_planejador)\n",
        "    return plano_da_resposta"
      ],
      "metadata": {
        "id": "y3VO1uo5_ghO"
      },
      "execution_count": 59,
      "outputs": []
    },
    {
      "cell_type": "code",
      "source": [
        "# Inserir lógica do sistema de agentes ################################################\n",
        "from datetime import date\n",
        "import textwrap\n",
        "from IPython.display import display, Markdown\n",
        "# Importar a exceção específica do gRPC para melhor tratamento\n",
        "import grpc\n",
        "\n",
        "\n",
        "data_de_hoje = date.today().strftime(\"%d/%m/%Y\")\n",
        "\n",
        "print(\"Iniciando o Sistema de Criação de Respostas para ajudar pais e responsáveis a responderem as curiosidades de crianças de 03 a 12 anos de idade.\")\n",
        "\n",
        "tema_completo = input(\"Por favor, digite a idade da criança e o tema sobre o qual você quer ajuda(Ex: 6 anos De onde vêm os bebês): \")\n",
        "\n",
        "if not tema_completo:\n",
        "    print(\"Você esqueceu de digitar a idade e o tema!\")\n",
        "else:\n",
        "    try:\n",
        "        # Tenta dividir a entrada considerando a idade no início\n",
        "        partes = tema_completo.split(maxsplit=1) # Divide em no máximo 2 partes no primeiro espaço\n",
        "        if len(partes) < 2:\n",
        "             # Se não houver espaço, tenta separar por \"anos\"\n",
        "             partes = tema_completo.split(\" anos \", maxsplit=1)\n",
        "             if len(partes) < 2:\n",
        "                  # Se ainda não separou, considera a entrada inválida\n",
        "                  raise ValueError(\"Formato de entrada inválido.\")\n",
        "\n",
        "        idade_str = partes[0].strip() # Remove espaços em branco antes e depois\n",
        "        tema = partes[1].strip().replace(\"'\", \"\") # Remove espaços em branco e aspas simples restantes\n",
        "\n",
        "        # Tenta converter a idade para um número inteiro para validação básica\n",
        "        idade = int(idade_str)\n",
        "\n",
        "        print(f\"Maravilha! Vamos então criar uma resposta para uma criança de {idade} anos sobre {tema}.\")\n",
        "\n",
        "        # Chama o agente buscador com o tópico e a data de hoje\n",
        "        print(\"Chamando Agente 1 (Buscador)...\")\n",
        "        try:\n",
        "            # Note: agente_buscador foi definido anteriormente para aceitar tema e idade\n",
        "            # A entrada original estava usando data_de_hoje, mas o traceback\n",
        "            # fornecido no início indica que a função original aceitava tema e idade.\n",
        "            # Vamos manter a chamada consistente com a definição original fornecida.\n",
        "            respostas_buscadas = agente_buscador(tema, idade)\n",
        "            print(\"--- 📝 Resultado do Agente 1 (Buscador) ---\\n\")\n",
        "            display(to_markdown(respostas_buscadas))\n",
        "            print(\"--------------------------------------------------------------\")\n",
        "        except Exception as e:\n",
        "            print(f\"Erro na execução do Agente 1 (Buscador): {e}\")\n",
        "            respostas_buscadas = None # Define como None para evitar erros subsequentes\n",
        "\n",
        "        # Chama o agente planejador\n",
        "        if respostas_buscadas: # Procede apenas se o Agente 1 teve sucesso\n",
        "            print(\"Chamando Agente 2 (Planejador)...\")\n",
        "            try:\n",
        "                plano_da_resposta = agente_planejador(tema, respostas_buscadas)\n",
        "                print(\"\\n--- 📝 Resultado do Agente 2 (Planejador) ---\\n\")\n",
        "                display(to_markdown(plano_da_resposta))\n",
        "                print(\"--------------------------------------------------------------\")\n",
        "                # Inspecionar a saída do Agente 2\n",
        "                print(f\"Saída do Agente 2 (plano_da_resposta) - Tipo: {type(plano_da_resposta)}\")\n",
        "                print(f\"Saída do Agente 2 (plano_da_resposta) - Conteúdo (primeiros 500 chars): {plano_da_resposta[:500] if plano_da_resposta else 'N/A'}\")\n",
        "                print(\"--------------------------------------------------------------\")\n",
        "            except Exception as e:\n",
        "                print(f\"Erro na execução do Agente 2 (Planejador): {e}\")\n",
        "                plano_da_resposta = None # Define como None para evitar erros subsequentes\n",
        "        else:\n",
        "            plano_da_resposta = None  # Define como None se o Agente 1 falhou\n",
        "            print(\"Agente 2 (Planejador) não executado devido a falha no Agente 1.\")\n",
        "\n",
        "\n",
        "    except (IndexError, ValueError) as e:\n",
        "        print(f\"Erro de entrada: {e}\")\n",
        "        print(\"Formato de entrada inválido. Por favor, digite a idade e o tema no formato 'idade anos tema'.\")\n",
        "    except Exception as e:\n",
        "        print(f\"Ocorreu um erro inesperado no fluxo principal: {e}\")\n",
        "\n",
        "# Adiciona este bloco para exibir a resposta final do Agente 2, se ele foi executado com sucesso\n",
        "if 'plano_da_resposta' in locals() and plano_da_resposta is not None:\n",
        "    print(\"\\n--- 🚀 Resposta Final (Gerada pelo Agente 2) ---\\n\")\n",
        "    display(to_markdown(plano_da_resposta))\n",
        "    print(\"--------------------------------------------------------------\")\n",
        "else:\n",
        "    print(\"\\n--- ❌ Resposta Final não Gerada ---\")\n",
        "    print(\"A resposta final não pôde ser gerada devido a um erro ou entrada inválida.\")\n",
        "    print(\"--------------------------------------------------------------\")"
      ],
      "metadata": {
        "colab": {
          "base_uri": "https://localhost:8080/",
          "height": 1000
        },
        "id": "_-ZGMajCYYcf",
        "outputId": "bac1891d-3cf6-4ce5-d14c-5c1685168045"
      },
      "execution_count": 61,
      "outputs": [
        {
          "output_type": "stream",
          "name": "stdout",
          "text": [
            "Iniciando o Sistema de Criação de Respostas para ajudar pais e responsáveis a responderem as curiosidades de crianças de 03 a 12 anos de idade.\n",
            "Por favor, digite a idade da criança e o tema sobre o qual você quer ajuda(Ex: 6 anos De onde vêm os bebês): 5 anos qual é o maior planeta do sitema solar\n",
            "Maravilha! Vamos então criar uma resposta para uma criança de 5 anos sobre anos qual é o maior planeta do sitema solar.\n",
            "Chamando Agente 1 (Buscador)...\n",
            "--- 📝 Resultado do Agente 1 (Buscador) ---\n",
            "\n"
          ]
        },
        {
          "output_type": "display_data",
          "data": {
            "text/plain": [
              "<IPython.core.display.Markdown object>"
            ],
            "text/markdown": "> Olá! Que pergunta legal! Para responder a essa pergunta, veja o que encontrei:\n> \n> \n> É uma pergunta muito interessante! A resposta pode ser dada de algumas formas, dependendo do que você quer saber:\n> \n> **Resposta 1:**\n> \n> Sabe, no nosso Sistema Solar, temos vários planetas, como a Terra onde vivemos. Mas, Júpiter é o grandão! Ele é tão grande que, se juntássemos todos os outros planetas, ainda seria maior. Júpiter é como um gigante amigável no espaço.\n> \n> **Resposta 2:**\n> \n> Imagine que os planetas são bolas de diferentes tamanhos. Júpiter seria como uma bola de praia enorme, bem maior que todas as outras bolas juntas. Ele é feito de gases, e tem até listras coloridas e uma grande mancha vermelha, que é como uma tempestade gigante que dura há muito tempo.\n> \n> **Resposta 3:**\n> \n> Júpiter é um planeta muito especial! Ele é o quinto planeta a partir do Sol e o maior de todos. Ele é tão grande que caberiam mais de 1300 planetas do tamanho da Terra dentro dele. Ele tem muitas luas e alguns anéis, mas não tão bonitos quanto os de Saturno.\n> \n> Espero que essas explicações tenham ajudado você a entender melhor qual é o maior planeta do Sistema Solar!\n> \n"
          },
          "metadata": {}
        },
        {
          "output_type": "stream",
          "name": "stdout",
          "text": [
            "--------------------------------------------------------------\n",
            "Chamando Agente 2 (Planejador)...\n",
            "\n",
            "--- 📝 Resultado do Agente 2 (Planejador) ---\n",
            "\n"
          ]
        },
        {
          "output_type": "display_data",
          "data": {
            "text/plain": [
              "<IPython.core.display.Markdown object>"
            ],
            "text/markdown": "> Para responder à pergunta de forma adequada para crianças de diferentes idades (3-12 anos), podemos abordar os seguintes pontos, ajustando a linguagem e a complexidade:\n> \n> 1.  **Introdução:** Apresentar o Sistema Solar de forma simples, mencionando que ele é composto por planetas de diferentes tamanhos.\n> \n> 2.  **Identificação do maior planeta:** Revelar que Júpiter é o maior planeta do Sistema Solar.\n> \n> 3.  **Comparação de tamanho:** Utilizar analogias e comparações para ajudar as crianças a visualizarem o tamanho de Júpiter em relação aos outros planetas e à Terra.\n> \n> 4.  **Características de Júpiter:** Descrever algumas características marcantes de Júpiter, como as listras coloridas e a Grande Mancha Vermelha, de forma lúdica e interessante.\n> \n> 5.  **Curiosidades:** Compartilhar curiosidades sobre Júpiter, como o número de luas e a presença de anéis, adaptando o nível de detalhe à idade da criança.\n> \n> 6.  **Relevância:** Destacar a importância de Júpiter no Sistema Solar e como ele influencia outros corpos celestes.\n> \n> \n> Olá! Que pergunta interessante! Você quer saber qual é o maior planeta do Sistema Solar?\n> \n> Imagine que o Sistema Solar é como uma vizinhança onde vivem vários planetas, cada um com um tamanho diferente. Júpiter é o grandão dessa turma! Ele é tão grande que, se juntássemos todos os outros planetas, ainda não seria do tamanho dele. Júpiter é como um gigante amigável que vive lá no espaço.\n> \n> Júpiter é feito de gases e tem listras coloridas e uma enorme mancha vermelha. Essa mancha é como uma tempestade gigante que está acontecendo lá há muito, muito tempo.\n> \n> Para você ter uma ideia, Júpiter é tão grande que mais de 1300 planetas do tamanho da Terra poderiam caber dentro dele! Ele também tem muitas luas, como pequenos satélites naturais, e alguns anéis, mas eles não são tão bonitos e chamativos como os de Saturno.\n> \n> Júpiter é muito importante no Sistema Solar. Ele é como um super-herói que protege a Terra de muitos asteroides perigosos. Incrível, né?\n> \n"
          },
          "metadata": {}
        },
        {
          "output_type": "stream",
          "name": "stdout",
          "text": [
            "--------------------------------------------------------------\n",
            "Saída do Agente 2 (plano_da_resposta) - Tipo: <class 'str'>\n",
            "Saída do Agente 2 (plano_da_resposta) - Conteúdo (primeiros 500 chars): Para responder à pergunta de forma adequada para crianças de diferentes idades (3-12 anos), podemos abordar os seguintes pontos, ajustando a linguagem e a complexidade:\n",
            "\n",
            "1.  **Introdução:** Apresentar o Sistema Solar de forma simples, mencionando que ele é composto por planetas de diferentes tamanhos.\n",
            "\n",
            "2.  **Identificação do maior planeta:** Revelar que Júpiter é o maior planeta do Sistema Solar.\n",
            "\n",
            "3.  **Comparação de tamanho:** Utilizar analogias e comparações para ajudar as crianças a visualiza\n",
            "--------------------------------------------------------------\n",
            "\n",
            "--- 🚀 Resposta Final (Gerada pelo Agente 2) ---\n",
            "\n"
          ]
        },
        {
          "output_type": "display_data",
          "data": {
            "text/plain": [
              "<IPython.core.display.Markdown object>"
            ],
            "text/markdown": "> Para responder à pergunta de forma adequada para crianças de diferentes idades (3-12 anos), podemos abordar os seguintes pontos, ajustando a linguagem e a complexidade:\n> \n> 1.  **Introdução:** Apresentar o Sistema Solar de forma simples, mencionando que ele é composto por planetas de diferentes tamanhos.\n> \n> 2.  **Identificação do maior planeta:** Revelar que Júpiter é o maior planeta do Sistema Solar.\n> \n> 3.  **Comparação de tamanho:** Utilizar analogias e comparações para ajudar as crianças a visualizarem o tamanho de Júpiter em relação aos outros planetas e à Terra.\n> \n> 4.  **Características de Júpiter:** Descrever algumas características marcantes de Júpiter, como as listras coloridas e a Grande Mancha Vermelha, de forma lúdica e interessante.\n> \n> 5.  **Curiosidades:** Compartilhar curiosidades sobre Júpiter, como o número de luas e a presença de anéis, adaptando o nível de detalhe à idade da criança.\n> \n> 6.  **Relevância:** Destacar a importância de Júpiter no Sistema Solar e como ele influencia outros corpos celestes.\n> \n> \n> Olá! Que pergunta interessante! Você quer saber qual é o maior planeta do Sistema Solar?\n> \n> Imagine que o Sistema Solar é como uma vizinhança onde vivem vários planetas, cada um com um tamanho diferente. Júpiter é o grandão dessa turma! Ele é tão grande que, se juntássemos todos os outros planetas, ainda não seria do tamanho dele. Júpiter é como um gigante amigável que vive lá no espaço.\n> \n> Júpiter é feito de gases e tem listras coloridas e uma enorme mancha vermelha. Essa mancha é como uma tempestade gigante que está acontecendo lá há muito, muito tempo.\n> \n> Para você ter uma ideia, Júpiter é tão grande que mais de 1300 planetas do tamanho da Terra poderiam caber dentro dele! Ele também tem muitas luas, como pequenos satélites naturais, e alguns anéis, mas eles não são tão bonitos e chamativos como os de Saturno.\n> \n> Júpiter é muito importante no Sistema Solar. Ele é como um super-herói que protege a Terra de muitos asteroides perigosos. Incrível, né?\n> \n"
          },
          "metadata": {}
        },
        {
          "output_type": "stream",
          "name": "stdout",
          "text": [
            "--------------------------------------------------------------\n"
          ]
        }
      ]
    },
    {
      "cell_type": "markdown",
      "source": [
        "data_de_hoje = date.today().strftime(\"%d/%m/%Y\")\n",
        "\n",
        "print(\"Iniciando o Sistema de Criação de Respostas para ajudar pais e responsáveis a responderem as curiosidades de crianças de 03 a 12 anos de idade.\")\n",
        "\n",
        "# --- Obter o Tópico do Usuário ---\n",
        "tema_completo = input(\" Por favor, digite a idade da criança e o tema sobre o qual você quer ajuda: \")\n",
        "\n",
        "# Inserir lógica do sistema de agentes ################################################\n",
        "if not tema_completo:\n",
        "    print(\"Você esqueceu de digitar a idade e o tema!\")\n",
        "else:\n",
        "    try:\n",
        "        partes = tema_completo.split(\" anos '\")\n",
        "        idade = partes[0]\n",
        "data_de_hoje = date.today().strftime(\"%d/%m/%Y\")\n",
        "\n",
        "print(\"Iniciando o Sistema de Criação de Respostas para ajudar pais e responsáveis a responderem as curiosidades de crianças de 03 a 12 anos de idade.\")\n",
        "\n",
        "# --- Obter o Tópico do Usuário ---\n",
        "tema_completo = input(\" Por favor, digite a idade da criança e o tema sobre o qual você quer ajuda: \")\n",
        "\n",
        "# Inserir lógica do sistema de agentes ################################################\n",
        "if not tema_completo:\n",
        "    print(\"Você esqueceu de digitar a idade e o tema!\")\n",
        "else:\n",
        "    try:\n",
        "        partes = tema_completo.split(\" anos '\")\n",
        "        idade = partes[0]\n",
        "        tema = partes[1].replace(\"'\", \"\") # Remove aspas simples restantes\n",
        "        print(f\"Maravilha! Vamos então criar uma resposta para uma criança de {idade} anos sobre {tema}.\")\n",
        "        respostas_buscadas = agente_buscador(tema, data_de_hoje)\n",
        "        print(\"\\n--- 📝 Resultado do Agente 1 (Buscador) ---\\n\")\n",
        "        display(to_markdown(respostas_buscadas))\n",
        "        print(\"--------------------------------------------------------------\")\n",
        "\n",
        "        plano_da_resposta = agente_planejador(tema, respostas_buscadas)\n",
        "        print(\"\\n--- 📝 Resultado do Agente 2 (Planejador) ---\\n\")\n",
        "        display(to_markdown(plano_da_resposta))\n",
        "        print(\"--------------------------------------------------------------\")\n",
        "\n",
        "        rascunho_da_resposta = agente_redator(tema, plano_da_resposta)\n",
        "        print(\"\\n--- 📝 Resultado do Agente 3 (Redator) ---\\n\")\n",
        "        display(to_markdown(rascunho_da_resposta))\n",
        "        print(\"--------------------------------------------------------------\")\n",
        "\n",
        "        post_final = agente_revisor(tema, rascunho_da_resposta)\n",
        "        print(\"\\n--- 📝 Resultado do Agente 4 (Revisor) ---\\n\")\n",
        "        display(to_markdown(post_final)) # Corrected variable name\n",
        "        print(\"--------------------------------------------------------------\")\n",
        "    except IndexError:\n",
        "        print(\"Formato de entrada inválido. Por favor, digite no formato 'idade anos tema'.\")\n",
        "    print(\"--------------------------------------------------------------\")\n",
        "\n",
        "    plano_da_resposta = agente_planejador(tema, respostas_buscadas)\n",
        "    print(\"\\n--- 📝 Resultado do Agente 2 (Planejador) ---\\n\")\n",
        "    display(to_markdown(plano_da_resposta))\n",
        "    print(\"--------------------------------------------------------------\")\n",
        "\n",
        "    rascunho_da_resposta = agente_redator(tema, plano_de_resposta)\n",
        "    print(\"\\n--- 📝 Resultado do Agente 3 (Redator) ---\\n\")\n",
        "    display(to_markdown(rascunho_da_resposta))\n",
        "    print(\"--------------------------------------------------------------\")\n",
        "\n",
        "    post_final = agente_revisor(tema, rascunho_da_resposta)\n",
        "    print(\"\\n--- 📝 Resultado do Agente 4 (Revisor) ---\\n\")\n",
        "    display(to_markdown(resposta_final))\n",
        "    print(\"--------------------------------------------------------------\")"
      ],
      "metadata": {
        "id": "6xzI6LKzxxnN"
      }
    }
  ]
}